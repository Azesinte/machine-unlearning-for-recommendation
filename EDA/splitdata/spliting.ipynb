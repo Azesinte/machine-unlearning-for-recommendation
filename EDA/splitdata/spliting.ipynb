{
 "cells": [
  {
   "cell_type": "code",
   "execution_count": 1,
   "metadata": {
    "collapsed": true
   },
   "outputs": [],
   "source": [
    "import os\n",
    "import math"
   ]
  },
  {
   "cell_type": "code",
   "execution_count": 23,
   "outputs": [
    {
     "name": "stdout",
     "output_type": "stream",
     "text": [
      "----- file created -----\n",
      "../../data/shards_2_ordered\n"
     ]
    }
   ],
   "source": [
    "shards = 2\n",
    "shuffle = False\n",
    "shuflled_ordered_str = 'shuffled' if shuffle else 'ordered'\n",
    "\n",
    "def mkdir(path):\n",
    "    folder = os.path.exists(path)\n",
    "    if not folder:\n",
    "        os.makedirs(path)\n",
    "        print(\"----- file created -----\")\n",
    "        return path\n",
    "    else:\n",
    "        print(\"----- The folder exists! -----\")\n",
    "    return None\n",
    "\n",
    "file = \"../../data/shards_{}_{}\".format(shards, shuflled_ordered_str)\n",
    "path_to_dict = mkdir(file)\n",
    "path_to_dict = file if path_to_dict == None else path_to_dict\n",
    "print(path_to_dict)"
   ],
   "metadata": {
    "collapsed": false,
    "pycharm": {
     "name": "#%%\n"
    }
   }
  },
  {
   "cell_type": "code",
   "execution_count": 24,
   "outputs": [],
   "source": [
    "def split(dataset_file, shards=5):\n",
    "    datas = dataset_file.readlines()\n",
    "    data_total = len(datas)          # 获取数据集的总长度\n",
    "    print(data_total)\n",
    "\n",
    "    file_paths = []\n",
    "    shard_files = []\n",
    "    for k in range(shards):\n",
    "        file_path = path_to_dict + '/' + 'dataset_sharded{}.csv'.format(k)\n",
    "        print(file_path)\n",
    "        file_paths.append(file_path)\n",
    "        shard_files.append(open(file_path, 'wb'))\n",
    "\n",
    "    factors = shards / data_total\n",
    "    for i, line in enumerate(datas):\n",
    "        shard_files[int(i * factors)].write(line)\n",
    "\n",
    "    for k in range(len(shard_files)):\n",
    "        shard_files[k].close()"
   ],
   "metadata": {
    "collapsed": false,
    "pycharm": {
     "name": "#%%\n"
    }
   }
  },
  {
   "cell_type": "code",
   "execution_count": 25,
   "outputs": [
    {
     "name": "stdout",
     "output_type": "stream",
     "text": [
      "92709\n",
      "../../data/shards_2_ordered/dataset_sharded0.csv\n",
      "../../data/shards_2_ordered/dataset_sharded1.csv\n",
      "----- done data spliting -----\n"
     ]
    }
   ],
   "source": [
    "if __name__ == \"__main__\":\n",
    "    dataset_file = open('../../data/train_data_{}.csv'.format(shuflled_ordered_str), \"rb\")\n",
    "    split(dataset_file=dataset_file, shards=shards)\n",
    "    dataset_file.close()\n",
    "    print('----- done data spliting -----')"
   ],
   "metadata": {
    "collapsed": false,
    "pycharm": {
     "name": "#%%\n"
    }
   }
  },
  {
   "cell_type": "code",
   "execution_count": null,
   "outputs": [],
   "source": [],
   "metadata": {
    "collapsed": false,
    "pycharm": {
     "name": "#%%\n"
    }
   }
  },
  {
   "cell_type": "code",
   "execution_count": null,
   "outputs": [],
   "source": [],
   "metadata": {
    "collapsed": false,
    "pycharm": {
     "name": "#%%\n"
    }
   }
  },
  {
   "cell_type": "code",
   "execution_count": null,
   "outputs": [],
   "source": [],
   "metadata": {
    "collapsed": false,
    "pycharm": {
     "name": "#%%\n"
    }
   }
  },
  {
   "cell_type": "code",
   "execution_count": null,
   "outputs": [],
   "source": [],
   "metadata": {
    "collapsed": false,
    "pycharm": {
     "name": "#%%\n"
    }
   }
  },
  {
   "cell_type": "code",
   "execution_count": null,
   "outputs": [],
   "source": [
    "test = 5.4999\n",
    "print(round(test), type(round(test)))\n",
    "print(math.ceil(test))\n",
    "print(int(test))"
   ],
   "metadata": {
    "collapsed": false,
    "pycharm": {
     "name": "#%%\n"
    }
   }
  },
  {
   "cell_type": "code",
   "execution_count": null,
   "outputs": [],
   "source": [
    "    # train_data = open('train.txt.bio', 'wb')\n",
    "    # val_data = open('val.txt.bio', 'wb')\n",
    "    # test_data = open('test.txt.bio', 'wb')\n",
    "\n",
    "\n",
    "    # train_data.close()\n",
    "    # val_data.close()\n",
    "    # test_data.close()\n",
    "\n",
    "    # print(datas[0])\n",
    "    # train_offset = int(data_total * train_ratio)\n",
    "    # val_offset = int(data_total * (train_ratio + var_ratio))\n",
    "    # random.shuffle(fname.read())  # 按行打乱顺序\n",
    "\n"
   ],
   "metadata": {
    "collapsed": false,
    "pycharm": {
     "name": "#%%\n"
    }
   }
  }
 ],
 "metadata": {
  "kernelspec": {
   "display_name": "PyCharm (surprise-recommendation)",
   "language": "python",
   "name": "pycharm-1f44e0f3"
  },
  "language_info": {
   "codemirror_mode": {
    "name": "ipython",
    "version": 2
   },
   "file_extension": ".py",
   "mimetype": "text/x-python",
   "name": "python",
   "nbconvert_exporter": "python",
   "pygments_lexer": "ipython2",
   "version": "2.7.6"
  }
 },
 "nbformat": 4,
 "nbformat_minor": 0
}