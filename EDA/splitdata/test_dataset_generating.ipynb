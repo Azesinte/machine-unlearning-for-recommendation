{
 "cells": [
  {
   "cell_type": "code",
   "execution_count": 29,
   "metadata": {
    "collapsed": true
   },
   "outputs": [],
   "source": [
    "import pandas as pd\n",
    "import time\n",
    "import matplotlib.pyplot as plt\n",
    "from KNNbaseline import KNNbase_Unlearning\n",
    "from surprise import dump\n",
    "import random"
   ]
  },
  {
   "cell_type": "code",
   "execution_count": 33,
   "outputs": [],
   "source": [
    "def testdata_generating(dataset_file, save_file):\n",
    "    datas = dataset_file.readlines()\n",
    "    data_total = len(datas)          # 获取数据集的总长度\n",
    "    print(data_total)\n",
    "\n",
    "    file_path = '../data/scoretest_dataset/' + save_file\n",
    "    test_dataset_file = open(file_path, 'wb')\n",
    "\n",
    "    for i, line in enumerate(datas):\n",
    "        if b',3,' in line: continue\n",
    "        if random.randint(0,9) == 7: # pick line only with 10% probability\n",
    "            test_dataset_file.write(line)\n",
    "\n",
    "    test_dataset_file.close()"
   ],
   "metadata": {
    "collapsed": false,
    "pycharm": {
     "name": "#%%\n"
    }
   }
  },
  {
   "cell_type": "code",
   "execution_count": 34,
   "outputs": [
    {
     "name": "stdout",
     "output_type": "stream",
     "text": [
      "100000\n",
      "----- shuffled test data generating done -----\n"
     ]
    }
   ],
   "source": [
    "'''\n",
    "shuffled score test data generating\n",
    "'''\n",
    "\n",
    "dataset_file = open('../data/udata_comma_shuffled.csv', \"rb\")\n",
    "testdata_generating(dataset_file=dataset_file, save_file='score_data_shuffled.csv')\n",
    "dataset_file.close()\n",
    "print('----- shuffled test data generating done -----')"
   ],
   "metadata": {
    "collapsed": false,
    "pycharm": {
     "name": "#%%\n"
    }
   }
  },
  {
   "cell_type": "code",
   "execution_count": 35,
   "outputs": [
    {
     "name": "stdout",
     "output_type": "stream",
     "text": [
      "100000\n",
      "----- ordered test data generating done -----\n"
     ]
    }
   ],
   "source": [
    "'''\n",
    "ordered score test data generating\n",
    "'''\n",
    "\n",
    "dataset_file = open('../data/udata_comma_ordered.csv', \"rb\")\n",
    "testdata_generating(dataset_file=dataset_file, save_file='score_data_ordered.csv')\n",
    "dataset_file.close()\n",
    "print('----- ordered test data generating done -----')"
   ],
   "metadata": {
    "collapsed": false,
    "pycharm": {
     "name": "#%%\n"
    }
   }
  },
  {
   "cell_type": "code",
   "execution_count": null,
   "outputs": [],
   "source": [
    "\n"
   ],
   "metadata": {
    "collapsed": false,
    "pycharm": {
     "name": "#%%\n"
    }
   }
  }
 ],
 "metadata": {
  "kernelspec": {
   "display_name": "PyCharm (surprise-recommendation)",
   "language": "python",
   "name": "pycharm-1f44e0f3"
  },
  "language_info": {
   "codemirror_mode": {
    "name": "ipython",
    "version": 2
   },
   "file_extension": ".py",
   "mimetype": "text/x-python",
   "name": "python",
   "nbconvert_exporter": "python",
   "pygments_lexer": "ipython2",
   "version": "2.7.6"
  }
 },
 "nbformat": 4,
 "nbformat_minor": 0
}