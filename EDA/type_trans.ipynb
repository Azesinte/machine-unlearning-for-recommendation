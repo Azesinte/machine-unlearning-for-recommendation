{
 "cells": [
  {
   "cell_type": "code",
   "execution_count": 15,
   "metadata": {
    "collapsed": true
   },
   "outputs": [
    {
     "name": "stdout",
     "output_type": "stream",
     "text": [
      "<class 'int'>\n"
     ]
    },
    {
     "data": {
      "text/plain": "123456"
     },
     "execution_count": 15,
     "metadata": {},
     "output_type": "execute_result"
    }
   ],
   "source": [
    "import numpy as np\n",
    "import pandas as pd\n",
    "\n",
    "np_int64 = np.int64(123456)\n",
    "intval = np_int64.item()\n",
    "print(type(intval))\n",
    "intval"
   ]
  },
  {
   "cell_type": "code",
   "execution_count": 16,
   "outputs": [
    {
     "name": "stdout",
     "output_type": "stream",
     "text": [
      "   test1  test2  test3\n",
      "0      1      2      3\n",
      "1      4      5      6\n",
      "2      7      9      9\n"
     ]
    }
   ],
   "source": [
    "l = [[1,2,3],[4,5,6],[7,9,9]]\n",
    "title = ['test1', 'test2', 'test3']\n",
    "testdata = pd.DataFrame(columns=title, data=l)\n",
    "print(testdata)\n",
    "testdata.to_csv('../results/testcsv.csv')"
   ],
   "metadata": {
    "collapsed": false,
    "pycharm": {
     "name": "#%%\n"
    }
   }
  },
  {
   "cell_type": "code",
   "execution_count": 17,
   "outputs": [
    {
     "name": "stdout",
     "output_type": "stream",
     "text": [
      "{'RMSE': [1, 2, 3, 4, 5], 'MAE': [6, 7, 8, 9, 10]}\n",
      "   RMSE  MAE\n",
      "0     1    6\n",
      "1     2    7\n",
      "2     3    8\n",
      "3     4    9\n",
      "4     5   10\n"
     ]
    }
   ],
   "source": [
    "title = ['testname1', 'testname2']\n",
    "l1 = [1,2,3,4,5]\n",
    "l2 = [6,7,8,9,10]\n",
    "res = {'RMSE': l1, 'MAE': l2}\n",
    "print(res)\n",
    "dataframe_test = pd.DataFrame(res)\n",
    "print(dataframe_test)"
   ],
   "metadata": {
    "collapsed": false,
    "pycharm": {
     "name": "#%%\n"
    }
   }
  },
  {
   "cell_type": "code",
   "execution_count": 28,
   "outputs": [
    {
     "name": "stdout",
     "output_type": "stream",
     "text": [
      "None\n",
      "20\n",
      "6\n",
      "6\n"
     ]
    }
   ],
   "source": [
    "class TestClass(object):\n",
    "\n",
    "    def __init__(self):\n",
    "        # auto self.test None\n",
    "        self.test = None\n",
    "\n",
    "    def current(self, test):\n",
    "        \"\"\"Just a method to get a value\"\"\"\n",
    "        self.test = test\n",
    "        print(self.test)\n",
    "\n",
    "    def next_one(self):\n",
    "        \"\"\"Trying to get a value from the 'current' method\"\"\"\n",
    "        # new_val =\n",
    "        print(self.test)\n",
    "\n",
    "\n",
    "a = TestClass()\n",
    "b = TestClass()\n",
    "a.next_one()\n",
    "a.current(20)\n",
    "b.current(6)\n",
    "b.next_one()"
   ],
   "metadata": {
    "collapsed": false,
    "pycharm": {
     "name": "#%%\n"
    }
   }
  },
  {
   "cell_type": "code",
   "execution_count": null,
   "outputs": [],
   "source": [
    "\n"
   ],
   "metadata": {
    "collapsed": false,
    "pycharm": {
     "name": "#%%\n"
    }
   }
  }
 ],
 "metadata": {
  "kernelspec": {
   "display_name": "PyCharm (surprise-recommendation)",
   "language": "python",
   "name": "pycharm-1f44e0f3"
  },
  "language_info": {
   "codemirror_mode": {
    "name": "ipython",
    "version": 2
   },
   "file_extension": ".py",
   "mimetype": "text/x-python",
   "name": "python",
   "nbconvert_exporter": "python",
   "pygments_lexer": "ipython2",
   "version": "2.7.6"
  }
 },
 "nbformat": 4,
 "nbformat_minor": 0
}