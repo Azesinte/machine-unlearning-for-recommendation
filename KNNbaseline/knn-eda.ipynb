{
 "cells": [
  {
   "cell_type": "code",
   "execution_count": 11,
   "metadata": {
    "collapsed": true
   },
   "outputs": [
    {
     "name": "stdout",
     "output_type": "stream",
     "text": [
      "dataframe maximun:\n",
      " user               943\n",
      "item              1682\n",
      "rating               5\n",
      "timestamp    893286638\n",
      "dtype: int64\n",
      "[    0     1     2 ... 99997 99998 99999]\n",
      "0\n",
      "1\n",
      "2\n",
      "3\n",
      "4\n",
      "5\n",
      "6\n",
      "7\n",
      "8\n",
      "9\n",
      "10\n",
      "11\n",
      "12\n",
      "13\n",
      "14\n",
      "15\n",
      "16\n",
      "17\n",
      "18\n",
      "19\n",
      "20\n",
      "21\n",
      "22\n",
      "23\n",
      "24\n",
      "25\n",
      "26\n",
      "27\n",
      "28\n",
      "29\n",
      "30\n",
      "31\n",
      "32\n",
      "33\n",
      "34\n",
      "35\n",
      "36\n",
      "37\n",
      "38\n",
      "39\n",
      "40\n",
      "41\n",
      "42\n",
      "43\n",
      "44\n",
      "45\n",
      "46\n",
      "47\n",
      "48\n",
      "49\n",
      "73138\n",
      "37017\n",
      "63465\n",
      "57833\n",
      "94598\n",
      "58295\n",
      "81718\n",
      "59521\n",
      "76481\n",
      "95044\n",
      "91915\n",
      "14179\n",
      "49983\n",
      "50332\n",
      "39050\n",
      "76278\n",
      "25788\n",
      "69791\n",
      "20903\n",
      "83030\n",
      "49976\n",
      "43265\n",
      "91005\n",
      "4130\n",
      "92196\n",
      "87528\n",
      "1729\n",
      "94222\n",
      "78202\n",
      "91771\n"
     ]
    }
   ],
   "source": [
    "import os, io, collections\n",
    "import pandas as pd\n",
    "import time\n",
    "import random\n",
    "import numpy as np\n",
    "from surprise import Dataset, KNNBaseline, SVD, accuracy, Reader\n",
    "from surprise.model_selection import cross_validate, train_test_split\n",
    "\n",
    "# 协同过滤方法\n",
    "# 载入movielens-100k数据集，一个经典的公开推荐系统数据集，有选项提示是否下载。\n",
    "# data = Dataset.load_builtin('ml-100k')\n",
    "\n",
    "# 或载入本地数据集# 数据集路径 path to dataset file\n",
    "file_path = os.path.expanduser('~/.surprise_data/ml-100k/ml-100k/u.data')\n",
    "# 使用Reader指定文本格式，参数line_format指定特征（列名），参数sep指定分隔符\n",
    "reader = Reader(line_format='user item rating timestamp', sep='\\t')\n",
    "\n",
    "# 加载数据集\n",
    "data = Dataset.load_from_file(file_path, reader=reader)\n",
    "\n",
    "data_df = pd.read_csv(file_path, sep='\\t', header=None, names=['user','item','rating','timestamp'])\n",
    "item_df = pd.read_csv(os.path.expanduser('~/.surprise_data/ml-100k/ml-100k/u.item'),\n",
    "                      sep='|', encoding='ISO-8859-1', header=None, names=['mid','mtitle']+[x for x in range(22)]) # index_col=0\n",
    "\n",
    "print(\"dataframe maximun:\\n\", data_df.max())\n",
    "\n",
    "indexarr = data_df.index.values\n",
    "print(indexarr)\n",
    "for it in indexarr[:50]:\n",
    "    print(it)\n",
    "\n",
    "for i in range(30):\n",
    "    print(random.choice(indexarr))\n",
    "\n",
    "# 每列都转换为字符串类型\n",
    "data_df = data_df.astype(str)\n",
    "item_df = item_df.astype(str)\n",
    "\n",
    "item_dict = { item_df.loc[x, 'mid']: item_df.loc[x, 'mtitle'] for x in range(len(item_df)) }"
   ]
  },
  {
   "cell_type": "code",
   "execution_count": 2,
   "outputs": [
    {
     "name": "stdout",
     "output_type": "stream",
     "text": [
      "Int64Index([0, 1, 2, 3], dtype='int64')\n"
     ]
    },
    {
     "data": {
      "text/plain": "  user item rating  timestamp\n0  196  242      3  881250949\n1  186  302      3  891717742\n2   22  377      1  878887116\n3  244   51      2  880606923\n4  166  346      1  886397596",
      "text/html": "<div>\n<style scoped>\n    .dataframe tbody tr th:only-of-type {\n        vertical-align: middle;\n    }\n\n    .dataframe tbody tr th {\n        vertical-align: top;\n    }\n\n    .dataframe thead th {\n        text-align: right;\n    }\n</style>\n<table border=\"1\" class=\"dataframe\">\n  <thead>\n    <tr style=\"text-align: right;\">\n      <th></th>\n      <th>user</th>\n      <th>item</th>\n      <th>rating</th>\n      <th>timestamp</th>\n    </tr>\n  </thead>\n  <tbody>\n    <tr>\n      <th>0</th>\n      <td>196</td>\n      <td>242</td>\n      <td>3</td>\n      <td>881250949</td>\n    </tr>\n    <tr>\n      <th>1</th>\n      <td>186</td>\n      <td>302</td>\n      <td>3</td>\n      <td>891717742</td>\n    </tr>\n    <tr>\n      <th>2</th>\n      <td>22</td>\n      <td>377</td>\n      <td>1</td>\n      <td>878887116</td>\n    </tr>\n    <tr>\n      <th>3</th>\n      <td>244</td>\n      <td>51</td>\n      <td>2</td>\n      <td>880606923</td>\n    </tr>\n    <tr>\n      <th>4</th>\n      <td>166</td>\n      <td>346</td>\n      <td>1</td>\n      <td>886397596</td>\n    </tr>\n  </tbody>\n</table>\n</div>"
     },
     "execution_count": 2,
     "metadata": {},
     "output_type": "execute_result"
    }
   ],
   "source": [
    "print(data_df.index[[0,1,2,3]])\n",
    "data_df.head()"
   ],
   "metadata": {
    "collapsed": false,
    "pycharm": {
     "name": "#%%\n"
    }
   }
  },
  {
   "cell_type": "code",
   "execution_count": 101,
   "outputs": [
    {
     "data": {
      "text/plain": "  user item rating  timestamp\n1  186  302      3  891717742\n2   22  377      1  878887116\n3  244   51      2  880606923\n5  298  474      4  884182806\n6  115  265      2  881171488",
      "text/html": "<div>\n<style scoped>\n    .dataframe tbody tr th:only-of-type {\n        vertical-align: middle;\n    }\n\n    .dataframe tbody tr th {\n        vertical-align: top;\n    }\n\n    .dataframe thead th {\n        text-align: right;\n    }\n</style>\n<table border=\"1\" class=\"dataframe\">\n  <thead>\n    <tr style=\"text-align: right;\">\n      <th></th>\n      <th>user</th>\n      <th>item</th>\n      <th>rating</th>\n      <th>timestamp</th>\n    </tr>\n  </thead>\n  <tbody>\n    <tr>\n      <th>1</th>\n      <td>186</td>\n      <td>302</td>\n      <td>3</td>\n      <td>891717742</td>\n    </tr>\n    <tr>\n      <th>2</th>\n      <td>22</td>\n      <td>377</td>\n      <td>1</td>\n      <td>878887116</td>\n    </tr>\n    <tr>\n      <th>3</th>\n      <td>244</td>\n      <td>51</td>\n      <td>2</td>\n      <td>880606923</td>\n    </tr>\n    <tr>\n      <th>5</th>\n      <td>298</td>\n      <td>474</td>\n      <td>4</td>\n      <td>884182806</td>\n    </tr>\n    <tr>\n      <th>6</th>\n      <td>115</td>\n      <td>265</td>\n      <td>2</td>\n      <td>881171488</td>\n    </tr>\n  </tbody>\n</table>\n</div>"
     },
     "execution_count": 101,
     "metadata": {},
     "output_type": "execute_result"
    }
   ],
   "source": [
    "data_df_droped = data_df.drop([0, 4], axis=0)\n",
    "data_df_droped.head()"
   ],
   "metadata": {
    "collapsed": false,
    "pycharm": {
     "name": "#%%\n"
    }
   }
  },
  {
   "cell_type": "code",
   "execution_count": 102,
   "outputs": [
    {
     "data": {
      "text/plain": "      user item rating  timestamp\n59972    1  168      5  874965478\n92487    1  172      5  874965478\n74577    1  165      5  874965518\n48214    1  156      4  874965556\n15764    1  196      5  874965677\n...    ...  ...    ...        ...\n1855    99  354      2  888469332\n1347    99  246      3  888469392\n13430   99  255      3  888469419\n21785   99  275      1  888469419\n60019   99  116      2  888469419\n\n[100000 rows x 4 columns]",
      "text/html": "<div>\n<style scoped>\n    .dataframe tbody tr th:only-of-type {\n        vertical-align: middle;\n    }\n\n    .dataframe tbody tr th {\n        vertical-align: top;\n    }\n\n    .dataframe thead th {\n        text-align: right;\n    }\n</style>\n<table border=\"1\" class=\"dataframe\">\n  <thead>\n    <tr style=\"text-align: right;\">\n      <th></th>\n      <th>user</th>\n      <th>item</th>\n      <th>rating</th>\n      <th>timestamp</th>\n    </tr>\n  </thead>\n  <tbody>\n    <tr>\n      <th>59972</th>\n      <td>1</td>\n      <td>168</td>\n      <td>5</td>\n      <td>874965478</td>\n    </tr>\n    <tr>\n      <th>92487</th>\n      <td>1</td>\n      <td>172</td>\n      <td>5</td>\n      <td>874965478</td>\n    </tr>\n    <tr>\n      <th>74577</th>\n      <td>1</td>\n      <td>165</td>\n      <td>5</td>\n      <td>874965518</td>\n    </tr>\n    <tr>\n      <th>48214</th>\n      <td>1</td>\n      <td>156</td>\n      <td>4</td>\n      <td>874965556</td>\n    </tr>\n    <tr>\n      <th>15764</th>\n      <td>1</td>\n      <td>196</td>\n      <td>5</td>\n      <td>874965677</td>\n    </tr>\n    <tr>\n      <th>...</th>\n      <td>...</td>\n      <td>...</td>\n      <td>...</td>\n      <td>...</td>\n    </tr>\n    <tr>\n      <th>1855</th>\n      <td>99</td>\n      <td>354</td>\n      <td>2</td>\n      <td>888469332</td>\n    </tr>\n    <tr>\n      <th>1347</th>\n      <td>99</td>\n      <td>246</td>\n      <td>3</td>\n      <td>888469392</td>\n    </tr>\n    <tr>\n      <th>13430</th>\n      <td>99</td>\n      <td>255</td>\n      <td>3</td>\n      <td>888469419</td>\n    </tr>\n    <tr>\n      <th>21785</th>\n      <td>99</td>\n      <td>275</td>\n      <td>1</td>\n      <td>888469419</td>\n    </tr>\n    <tr>\n      <th>60019</th>\n      <td>99</td>\n      <td>116</td>\n      <td>2</td>\n      <td>888469419</td>\n    </tr>\n  </tbody>\n</table>\n<p>100000 rows × 4 columns</p>\n</div>"
     },
     "execution_count": 102,
     "metadata": {},
     "output_type": "execute_result"
    }
   ],
   "source": [
    "data_df_sorted = data_df.sort_values(by=[\"user\", \"timestamp\"], ascending=[True, True])\n",
    "data_df_sorted"
   ],
   "metadata": {
    "collapsed": false,
    "pycharm": {
     "name": "#%%\n"
    }
   }
  },
  {
   "cell_type": "code",
   "execution_count": 103,
   "outputs": [],
   "source": [
    "def item_to_movie_name(item):\n",
    "    return item_dict[item]\n",
    "\n",
    "def seconds_to_ctime(seconds):\n",
    "    seconds = seconds if type(seconds) == \"int\" else int(seconds)\n",
    "    return time.ctime(seconds)"
   ],
   "metadata": {
    "collapsed": false,
    "pycharm": {
     "name": "#%%\n"
    }
   }
  },
  {
   "cell_type": "code",
   "execution_count": 104,
   "outputs": [
    {
     "name": "stdout",
     "output_type": "stream",
     "text": [
      "      user item rating  timestamp\n",
      "700      2  292      4  888550774\n",
      "924      2  251      5  888552084\n",
      "1052     2   50      5  888552084\n",
      "3425     2  314      1  888980085\n",
      "5063     2  297      4  888550871\n",
      "...    ...  ...    ...        ...\n",
      "77906    2  288      3  888550252\n",
      "85606    2  286      4  888549960\n",
      "88190    2  275      5  888550939\n",
      "95677    2  302      5  888552084\n",
      "97619    2  296      3  888550871\n",
      "\n",
      "[62 rows x 4 columns]\n",
      "62\n",
      "---- testing ----\n",
      "user               244\n",
      "item                51\n",
      "rating               2\n",
      "timestamp    880606923\n",
      "Name: 3, dtype: object\n",
      "51\n"
     ]
    }
   ],
   "source": [
    "data_user = data_df.loc[data_df[\"user\"] == \"2\"]\n",
    "print(data_user)\n",
    "print(len(data_user))\n",
    "\n",
    "print(\"---- testing ----\")\n",
    "\n",
    "dest = data_df.loc[3]\n",
    "print(dest)\n",
    "print(dest[\"item\"])"
   ],
   "metadata": {
    "collapsed": false,
    "pycharm": {
     "name": "#%%\n"
    }
   }
  },
  {
   "cell_type": "code",
   "execution_count": 90,
   "outputs": [
    {
     "data": {
      "text/plain": "      user                                         item rating  timestamp\n700      2                              Rosewood (1997)      4  888550774\n924      2                       Shall We Dance? (1996)      5  888552084\n1052     2                             Star Wars (1977)      5  888552084\n3425     2  3 Ninjas: High Noon At Mega Mountain (1998)      1  888980085\n5063     2                           Ulee's Gold (1997)      4  888550871\n...    ...                                          ...    ...        ...\n77906    2                                Scream (1996)      3  888550252\n85606    2                  English Patient, The (1996)      4  888549960\n88190    2                 Sense and Sensibility (1995)      5  888550939\n95677    2                     L.A. Confidential (1997)      5  888552084\n97619    2                          Promesse, La (1996)      3  888550871\n\n[62 rows x 4 columns]",
      "text/html": "<div>\n<style scoped>\n    .dataframe tbody tr th:only-of-type {\n        vertical-align: middle;\n    }\n\n    .dataframe tbody tr th {\n        vertical-align: top;\n    }\n\n    .dataframe thead th {\n        text-align: right;\n    }\n</style>\n<table border=\"1\" class=\"dataframe\">\n  <thead>\n    <tr style=\"text-align: right;\">\n      <th></th>\n      <th>user</th>\n      <th>item</th>\n      <th>rating</th>\n      <th>timestamp</th>\n    </tr>\n  </thead>\n  <tbody>\n    <tr>\n      <th>700</th>\n      <td>2</td>\n      <td>Rosewood (1997)</td>\n      <td>4</td>\n      <td>888550774</td>\n    </tr>\n    <tr>\n      <th>924</th>\n      <td>2</td>\n      <td>Shall We Dance? (1996)</td>\n      <td>5</td>\n      <td>888552084</td>\n    </tr>\n    <tr>\n      <th>1052</th>\n      <td>2</td>\n      <td>Star Wars (1977)</td>\n      <td>5</td>\n      <td>888552084</td>\n    </tr>\n    <tr>\n      <th>3425</th>\n      <td>2</td>\n      <td>3 Ninjas: High Noon At Mega Mountain (1998)</td>\n      <td>1</td>\n      <td>888980085</td>\n    </tr>\n    <tr>\n      <th>5063</th>\n      <td>2</td>\n      <td>Ulee's Gold (1997)</td>\n      <td>4</td>\n      <td>888550871</td>\n    </tr>\n    <tr>\n      <th>...</th>\n      <td>...</td>\n      <td>...</td>\n      <td>...</td>\n      <td>...</td>\n    </tr>\n    <tr>\n      <th>77906</th>\n      <td>2</td>\n      <td>Scream (1996)</td>\n      <td>3</td>\n      <td>888550252</td>\n    </tr>\n    <tr>\n      <th>85606</th>\n      <td>2</td>\n      <td>English Patient, The (1996)</td>\n      <td>4</td>\n      <td>888549960</td>\n    </tr>\n    <tr>\n      <th>88190</th>\n      <td>2</td>\n      <td>Sense and Sensibility (1995)</td>\n      <td>5</td>\n      <td>888550939</td>\n    </tr>\n    <tr>\n      <th>95677</th>\n      <td>2</td>\n      <td>L.A. Confidential (1997)</td>\n      <td>5</td>\n      <td>888552084</td>\n    </tr>\n    <tr>\n      <th>97619</th>\n      <td>2</td>\n      <td>Promesse, La (1996)</td>\n      <td>3</td>\n      <td>888550871</td>\n    </tr>\n  </tbody>\n</table>\n<p>62 rows × 4 columns</p>\n</div>"
     },
     "execution_count": 90,
     "metadata": {},
     "output_type": "execute_result"
    }
   ],
   "source": [
    "for idx, row in data_user.iterrows():\n",
    "    # print(row[\"item\"])\n",
    "    row[\"item\"] = item_to_movie_name(row[\"item\"])\n",
    "\n",
    "data_user"
   ],
   "metadata": {
    "collapsed": false,
    "pycharm": {
     "name": "#%%\n"
    }
   }
  },
  {
   "cell_type": "code",
   "execution_count": 91,
   "outputs": [
    {
     "name": "stdout",
     "output_type": "stream",
     "text": [
      "      user                                         item rating  \\\n",
      "700      2                              Rosewood (1997)      4   \n",
      "924      2                       Shall We Dance? (1996)      5   \n",
      "1052     2                             Star Wars (1977)      5   \n",
      "3425     2  3 Ninjas: High Noon At Mega Mountain (1998)      1   \n",
      "5063     2                           Ulee's Gold (1997)      4   \n",
      "...    ...                                          ...    ...   \n",
      "77906    2                                Scream (1996)      3   \n",
      "85606    2                  English Patient, The (1996)      4   \n",
      "88190    2                 Sense and Sensibility (1995)      5   \n",
      "95677    2                     L.A. Confidential (1997)      5   \n",
      "97619    2                          Promesse, La (1996)      3   \n",
      "\n",
      "                      timestamp  \n",
      "700    Fri Feb 27 11:39:34 1998  \n",
      "924    Fri Feb 27 12:01:24 1998  \n",
      "1052   Fri Feb 27 12:01:24 1998  \n",
      "3425   Wed Mar  4 10:54:45 1998  \n",
      "5063   Fri Feb 27 11:41:11 1998  \n",
      "...                         ...  \n",
      "77906  Fri Feb 27 11:30:52 1998  \n",
      "85606  Fri Feb 27 11:26:00 1998  \n",
      "88190  Fri Feb 27 11:42:19 1998  \n",
      "95677  Fri Feb 27 12:01:24 1998  \n",
      "97619  Fri Feb 27 11:41:11 1998  \n",
      "\n",
      "[62 rows x 4 columns]\n"
     ]
    }
   ],
   "source": [
    "for idx, row in data_user.iterrows():\n",
    "    row[\"timestamp\"] = seconds_to_ctime(row[\"timestamp\"])\n",
    "\n",
    "print(data_user)"
   ],
   "metadata": {
    "collapsed": false,
    "pycharm": {
     "name": "#%%\n"
    }
   }
  },
  {
   "cell_type": "code",
   "execution_count": 106,
   "outputs": [
    {
     "name": "stdout",
     "output_type": "stream",
     "text": [
      "<class 'str'> 123\n",
      "<class 'int'> 123\n"
     ]
    }
   ],
   "source": [
    "source = \"123\"\n",
    "print(type(source), source)\n",
    "\n",
    "dest = int(source)\n",
    "print(type(dest), dest)\n"
   ],
   "metadata": {
    "collapsed": false,
    "pycharm": {
     "name": "#%%\n"
    }
   }
  },
  {
   "cell_type": "code",
   "execution_count": 91,
   "outputs": [],
   "source": [],
   "metadata": {
    "collapsed": false,
    "pycharm": {
     "name": "#%%\n"
    }
   }
  },
  {
   "cell_type": "code",
   "execution_count": 91,
   "outputs": [],
   "source": [],
   "metadata": {
    "collapsed": false,
    "pycharm": {
     "name": "#%%\n"
    }
   }
  },
  {
   "cell_type": "code",
   "execution_count": null,
   "outputs": [],
   "source": [
    "\n"
   ],
   "metadata": {
    "collapsed": false,
    "pycharm": {
     "name": "#%%\n"
    }
   }
  }
 ],
 "metadata": {
  "kernelspec": {
   "display_name": "PyCharm (surprise-recommendation)",
   "language": "python",
   "name": "pycharm-1f44e0f3"
  },
  "language_info": {
   "codemirror_mode": {
    "name": "ipython",
    "version": 2
   },
   "file_extension": ".py",
   "mimetype": "text/x-python",
   "name": "python",
   "nbconvert_exporter": "python",
   "pygments_lexer": "ipython2",
   "version": "2.7.6"
  }
 },
 "nbformat": 4,
 "nbformat_minor": 0
}