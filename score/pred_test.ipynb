{
 "cells": [
  {
   "cell_type": "code",
   "execution_count": 89,
   "metadata": {
    "collapsed": true
   },
   "outputs": [],
   "source": [
    "from surprise import SVD, KNNWithMeans, accuracy, Trainset\n",
    "from surprise import Dataset, Reader\n",
    "import os\n",
    "import pandas as pd\n"
   ]
  },
  {
   "cell_type": "code",
   "execution_count": 94,
   "outputs": [],
   "source": [
    "file_path = os.path.expanduser('../data/pred_testdata.csv')\n",
    "# 告诉文本阅读器，文本的格式是怎么样的\n",
    "reader = Reader(line_format='user item rating', sep=',')\n",
    "# 加载数据\n",
    "data = Dataset.load_from_file(file_path, reader=reader)\n",
    "# print(data)\n",
    "trainset = data.build_full_trainset()\n",
    "# print(trainset)\n",
    "data_validate = Dataset.load_from_file('../data/pred_validata.csv', reader=reader)\n",
    "testdata = data_validate.build_full_trainset()\n",
    "testset = testdata.build_testset()\n"
   ],
   "metadata": {
    "collapsed": false,
    "pycharm": {
     "name": "#%%\n"
    }
   }
  },
  {
   "cell_type": "code",
   "execution_count": 97,
   "outputs": [
    {
     "name": "stdout",
     "output_type": "stream",
     "text": [
      "Computing the msd similarity matrix...\n",
      "Done computing similarity matrix.\n"
     ]
    },
    {
     "data": {
      "text/plain": "<surprise.prediction_algorithms.knns.KNNWithMeans at 0x2e85f9272b0>"
     },
     "execution_count": 97,
     "metadata": {},
     "output_type": "execute_result"
    }
   ],
   "source": [
    "my_k = 10\n",
    "my_min_k = 3\n",
    "my_sim_option = {\n",
    "    'name':'pearson', 'user_based':False,\n",
    "    }\n",
    "algo = KNNWithMeans(\n",
    "    k = my_k, min_k = my_min_k, sim_option = my_sim_option\n",
    "    )\n",
    "algo.fit(trainset)"
   ],
   "metadata": {
    "collapsed": false,
    "pycharm": {
     "name": "#%%\n"
    }
   }
  },
  {
   "cell_type": "code",
   "execution_count": 98,
   "outputs": [
    {
     "name": "stdout",
     "output_type": "stream",
     "text": [
      "[Prediction(uid='5', iid='1', r_ui=1.0, est=1, details={'actual_k': 4, 'was_impossible': False}), Prediction(uid='5', iid='2', r_ui=2.0, est=1.6, details={'actual_k': 5, 'was_impossible': False}), Prediction(uid='5', iid='3', r_ui=3.0, est=2.6, details={'actual_k': 5, 'was_impossible': False}), Prediction(uid='5', iid='4', r_ui=4.0, est=3.5, details={'actual_k': 4, 'was_impossible': False}), Prediction(uid='5', iid='5', r_ui=5.0, est=4.5, details={'actual_k': 4, 'was_impossible': False})]\n",
      "user: 5          item: 1          r_ui = 1.00   est = 1.00   {'actual_k': 4, 'was_impossible': False}\n",
      "user: 5          item: 2          r_ui = 2.00   est = 1.60   {'actual_k': 5, 'was_impossible': False}\n",
      "user: 5          item: 3          r_ui = 3.00   est = 2.60   {'actual_k': 5, 'was_impossible': False}\n",
      "user: 5          item: 4          r_ui = 4.00   est = 3.50   {'actual_k': 4, 'was_impossible': False}\n",
      "user: 5          item: 5          r_ui = 5.00   est = 4.50   {'actual_k': 4, 'was_impossible': False}\n"
     ]
    }
   ],
   "source": [
    "predictions = algo.test(testset)\n",
    "print(predictions)\n",
    "for i in predictions:\n",
    "    print(i)"
   ],
   "metadata": {
    "collapsed": false,
    "pycharm": {
     "name": "#%%\n"
    }
   }
  },
  {
   "cell_type": "code",
   "execution_count": 98,
   "outputs": [],
   "source": [],
   "metadata": {
    "collapsed": false,
    "pycharm": {
     "name": "#%%\n"
    }
   }
  },
  {
   "cell_type": "code",
   "execution_count": 83,
   "outputs": [],
   "source": [
    "testset =  [\n",
    "    ('5','1',4.5),# 想获取第5个用户对第1个item的得分\n",
    "    ('5','4',5),# 0这个位置是真实得分，不知道时可以写0\n",
    "    ('5','5',2.7),# 但写0后，就没法进行算法评估了，因为不知道真实值\n",
    "]"
   ],
   "metadata": {
    "collapsed": false,
    "pycharm": {
     "name": "#%%\n"
    }
   }
  },
  {
   "cell_type": "code",
   "execution_count": 86,
   "outputs": [
    {
     "name": "stdout",
     "output_type": "stream",
     "text": [
      "[Prediction(uid='5', iid='1', r_ui=4.5, est=1, details={'actual_k': 4, 'was_impossible': False}), Prediction(uid='5', iid='4', r_ui=5, est=3.5, details={'actual_k': 4, 'was_impossible': False}), Prediction(uid='5', iid='5', r_ui=2.7, est=4.5, details={'actual_k': 4, 'was_impossible': False})]\n",
      "user: 5          item: 1          r_ui = 4.50   est = 1.00   {'actual_k': 4, 'was_impossible': False}\n",
      "user: 5          item: 4          r_ui = 5.00   est = 3.50   {'actual_k': 4, 'was_impossible': False}\n",
      "user: 5          item: 5          r_ui = 2.70   est = 4.50   {'actual_k': 4, 'was_impossible': False}\n"
     ]
    }
   ],
   "source": [
    "predictions = algo.test(testset)\n",
    "print(predictions)\n",
    "for i in predictions:\n",
    "    print(i)"
   ],
   "metadata": {
    "collapsed": false,
    "pycharm": {
     "name": "#%%\n"
    }
   }
  },
  {
   "cell_type": "code",
   "execution_count": 79,
   "outputs": [
    {
     "name": "stdout",
     "output_type": "stream",
     "text": [
      "    0  1    2\n",
      "0   1  1  1.0\n",
      "1   1  2  2.0\n",
      "2   1  3  3.0\n",
      "3   1  4  4.0\n",
      "4   1  5  5.0\n",
      "5   2  1  1.0\n",
      "6   2  2  2.0\n",
      "7   2  3  3.0\n",
      "8   2  4  4.0\n",
      "9   2  5  5.0\n",
      "10  3  1  1.0\n",
      "11  3  2  2.0\n",
      "12  3  3  3.0\n",
      "13  3  4  4.0\n",
      "14  3  5  5.0\n",
      "15  4  1  1.0\n",
      "16  4  2  2.0\n",
      "17  4  3  3.0\n",
      "18  4  4  4.0\n",
      "19  4  5  5.0\n",
      "20  5  2  2.0\n",
      "21  5  3  3.0\n"
     ]
    }
   ],
   "source": [
    "# 指定文件所在路径\n",
    "file_path = os.path.expanduser('../data/pred_testdata.csv')\n",
    "# 告诉文本阅读器，文本的格式是怎么样的\n",
    "reader = Reader(line_format='user item rating', sep=',')\n",
    "# 加载数据\n",
    "data = Dataset.load_from_file(file_path, reader=reader)\n",
    "# print(data)\n",
    "trainset = data.build_full_trainset()\n",
    "# print(trainset)\n",
    "\n",
    "data_df = pd.read_csv(file_path, sep=',', header=None)\n",
    "data_df = data_df.astype(str)\n",
    "print(data_df)"
   ],
   "metadata": {
    "collapsed": false,
    "pycharm": {
     "name": "#%%\n"
    }
   }
  },
  {
   "cell_type": "code",
   "execution_count": 74,
   "outputs": [
    {
     "data": {
      "text/plain": "<surprise.prediction_algorithms.matrix_factorization.SVD at 0x2e85f8a51c0>"
     },
     "execution_count": 74,
     "metadata": {},
     "output_type": "execute_result"
    }
   ],
   "source": [
    "algo = SVD()\n",
    "algo.fit(trainset)"
   ],
   "metadata": {
    "collapsed": false,
    "pycharm": {
     "name": "#%%\n"
    }
   }
  },
  {
   "cell_type": "code",
   "execution_count": 75,
   "outputs": [
    {
     "name": "stdout",
     "output_type": "stream",
     "text": [
      "rating of user-1 to item-1 is  2.0698562370336937\n",
      "user: 1          item: 1          r_ui = None   est = 2.07   {'was_impossible': False}\n",
      "rating of user-1 to item-2 is  2.3267118469841837\n",
      "user: 1          item: 2          r_ui = None   est = 2.33   {'was_impossible': False}\n",
      "rating of user-1 to item-3 is  3.00578340108174\n",
      "user: 1          item: 3          r_ui = None   est = 3.01   {'was_impossible': False}\n",
      "rating of user-1 to item-4 is  3.6431881298265947\n",
      "user: 1          item: 4          r_ui = None   est = 3.64   {'was_impossible': False}\n",
      "rating of user-1 to item-5 is  3.8732391499253995\n",
      "user: 1          item: 5          r_ui = None   est = 3.87   {'was_impossible': False}\n"
     ]
    }
   ],
   "source": [
    "# we can now query for specific predicions\n",
    "uid = str(1)  # raw user id\n",
    "\n",
    "# get a prediction for specific users and items.\n",
    "for iid in [str(_) for _ in range(1,6)]:\n",
    "    pred = algo.predict(uid, iid)\n",
    "    print('rating of user-{0} to item-{1} is '.format(uid, iid), pred.est)# rating of user-5 to item-1\n",
    "    print(pred)"
   ],
   "metadata": {
    "collapsed": false,
    "pycharm": {
     "name": "#%%\n"
    }
   }
  },
  {
   "cell_type": "code",
   "execution_count": 76,
   "outputs": [
    {
     "ename": "TypeError",
     "evalue": "cannot unpack non-iterable int object",
     "output_type": "error",
     "traceback": [
      "\u001B[1;31m---------------------------------------------------------------------------\u001B[0m",
      "\u001B[1;31mTypeError\u001B[0m                                 Traceback (most recent call last)",
      "\u001B[1;32m~\\AppData\\Local\\Temp/ipykernel_15440/3322715623.py\u001B[0m in \u001B[0;36m<module>\u001B[1;34m\u001B[0m\n\u001B[1;32m----> 1\u001B[1;33m \u001B[0mpred\u001B[0m \u001B[1;33m=\u001B[0m \u001B[0malgo\u001B[0m\u001B[1;33m.\u001B[0m\u001B[0mtest\u001B[0m\u001B[1;33m(\u001B[0m\u001B[0mdata_df\u001B[0m\u001B[1;33m)\u001B[0m\u001B[1;33m\u001B[0m\u001B[1;33m\u001B[0m\u001B[0m\n\u001B[0m\u001B[0;32m      2\u001B[0m \u001B[1;32mfor\u001B[0m \u001B[0mi\u001B[0m \u001B[1;32min\u001B[0m \u001B[0mrange\u001B[0m\u001B[1;33m(\u001B[0m\u001B[0mlen\u001B[0m\u001B[1;33m(\u001B[0m\u001B[0mpred\u001B[0m\u001B[1;33m)\u001B[0m\u001B[1;33m)\u001B[0m\u001B[1;33m:\u001B[0m\u001B[1;33m\u001B[0m\u001B[1;33m\u001B[0m\u001B[0m\n\u001B[0;32m      3\u001B[0m     \u001B[0mprint\u001B[0m\u001B[1;33m(\u001B[0m\u001B[0mi\u001B[0m\u001B[1;33m)\u001B[0m\u001B[1;33m\u001B[0m\u001B[1;33m\u001B[0m\u001B[0m\n\u001B[0;32m      4\u001B[0m \u001B[1;33m\u001B[0m\u001B[0m\n",
      "\u001B[1;32mD:\\conda\\Anaconda3\\envs\\myju\\lib\\site-packages\\surprise\\prediction_algorithms\\algo_base.py\u001B[0m in \u001B[0;36mtest\u001B[1;34m(self, testset, verbose)\u001B[0m\n\u001B[0;32m    162\u001B[0m \u001B[1;33m\u001B[0m\u001B[0m\n\u001B[0;32m    163\u001B[0m         \u001B[1;31m# The ratings are translated back to their original scale.\u001B[0m\u001B[1;33m\u001B[0m\u001B[1;33m\u001B[0m\u001B[0m\n\u001B[1;32m--> 164\u001B[1;33m         predictions = [self.predict(uid,\n\u001B[0m\u001B[0;32m    165\u001B[0m                                     \u001B[0miid\u001B[0m\u001B[1;33m,\u001B[0m\u001B[1;33m\u001B[0m\u001B[1;33m\u001B[0m\u001B[0m\n\u001B[0;32m    166\u001B[0m                                     \u001B[0mr_ui_trans\u001B[0m\u001B[1;33m,\u001B[0m\u001B[1;33m\u001B[0m\u001B[1;33m\u001B[0m\u001B[0m\n",
      "\u001B[1;32mD:\\conda\\Anaconda3\\envs\\myju\\lib\\site-packages\\surprise\\prediction_algorithms\\algo_base.py\u001B[0m in \u001B[0;36m<listcomp>\u001B[1;34m(.0)\u001B[0m\n\u001B[0;32m    162\u001B[0m \u001B[1;33m\u001B[0m\u001B[0m\n\u001B[0;32m    163\u001B[0m         \u001B[1;31m# The ratings are translated back to their original scale.\u001B[0m\u001B[1;33m\u001B[0m\u001B[1;33m\u001B[0m\u001B[0m\n\u001B[1;32m--> 164\u001B[1;33m         predictions = [self.predict(uid,\n\u001B[0m\u001B[0;32m    165\u001B[0m                                     \u001B[0miid\u001B[0m\u001B[1;33m,\u001B[0m\u001B[1;33m\u001B[0m\u001B[1;33m\u001B[0m\u001B[0m\n\u001B[0;32m    166\u001B[0m                                     \u001B[0mr_ui_trans\u001B[0m\u001B[1;33m,\u001B[0m\u001B[1;33m\u001B[0m\u001B[1;33m\u001B[0m\u001B[0m\n",
      "\u001B[1;31mTypeError\u001B[0m: cannot unpack non-iterable int object"
     ]
    }
   ],
   "source": [
    "pred = algo.test(data_df)\n",
    "for i in range(len(pred)):\n",
    "    print(i)"
   ],
   "metadata": {
    "collapsed": false,
    "pycharm": {
     "name": "#%%\n"
    }
   }
  },
  {
   "cell_type": "code",
   "execution_count": null,
   "outputs": [],
   "source": [
    "testset =  [\n",
    "    ('5','1',4.5),# 想获取第5个用户对第1个item的得分\n",
    "    ('5','4',5),# 0这个位置是真实得分，不知道时可以写0\n",
    "    ('5','5',2.7),# 但写0后，就没法进行算法评估了，因为不知道真实值\n",
    "]\n",
    "predictions = algo.test(testset)"
   ],
   "metadata": {
    "collapsed": false,
    "pycharm": {
     "name": "#%%\n"
    }
   }
  },
  {
   "cell_type": "code",
   "execution_count": 55,
   "outputs": [
    {
     "name": "stdout",
     "output_type": "stream",
     "text": [
      "user: 5          item: 1          r_ui = 4.50   est = 2.27   {'was_impossible': False}\n",
      "user: 5          item: 4          r_ui = 5.00   est = 3.25   {'was_impossible': False}\n",
      "user: 5          item: 5          r_ui = 2.70   est = 3.49   {'was_impossible': False}\n"
     ]
    }
   ],
   "source": [
    "for i in range(len(predictions)):\n",
    "    print(predictions[i])"
   ],
   "metadata": {
    "collapsed": false,
    "pycharm": {
     "name": "#%%\n"
    }
   }
  },
  {
   "cell_type": "code",
   "execution_count": null,
   "outputs": [],
   "source": [
    "\n"
   ],
   "metadata": {
    "collapsed": false,
    "pycharm": {
     "name": "#%%\n"
    }
   }
  }
 ],
 "metadata": {
  "kernelspec": {
   "name": "pycharm-1f44e0f3",
   "language": "python",
   "display_name": "PyCharm (surprise-recommendation)"
  },
  "language_info": {
   "codemirror_mode": {
    "name": "ipython",
    "version": 2
   },
   "file_extension": ".py",
   "mimetype": "text/x-python",
   "name": "python",
   "nbconvert_exporter": "python",
   "pygments_lexer": "ipython2",
   "version": "2.7.6"
  }
 },
 "nbformat": 4,
 "nbformat_minor": 0
}