{
 "cells": [
  {
   "cell_type": "code",
   "execution_count": 15,
   "metadata": {
    "collapsed": true
   },
   "outputs": [],
   "source": [
    "import pandas as pd\n",
    "import time\n",
    "import matplotlib.pyplot as plt\n",
    "from KNNbaseline import KNNbase_Unlearning\n",
    "from surprise import dump\n",
    "from KnnPred import knnpred"
   ]
  },
  {
   "cell_type": "code",
   "execution_count": 21,
   "outputs": [
    {
     "name": "stdout",
     "output_type": "stream",
     "text": [
      "Estimating biases using als...\n",
      "Computing the msd similarity matrix...\n",
      "Done computing similarity matrix.\n",
      "prediction accuracy is: 0.8176422983544646\n",
      "accuracy of shard0 shuffled: 0.8176422983544646\n"
     ]
    }
   ],
   "source": [
    "'''\n",
    "shard0\n",
    "shuffle == True\n",
    "'''\n",
    "\n",
    "KNN_Unl = KNNbase_Unlearning(shuffle=True)\n",
    "# data_df = KNN_Unl.data_readin('~/.surprise_data/ml-100k/ml-100k/u.data')\n",
    "data_df = KNN_Unl.data_readin('../../data/shards_5_shuffled/dataset_sharded0.csv')\n",
    "algorithm = KNN_Unl.train_model()\n",
    "dump.dump(\"../../model/shards_5_shuffled/shard0-trainedmodel.m\", algo=algorithm)\n",
    "# KNN_Unl.get_similar_users_recommendations(algorithm, '7', 10)\n",
    "KNN_Unl.data_df.to_csv(\"../../data/shards_5_shuffled/u-unlearning0.csv\", sep=\"\\t\", header=None, index=False)\n",
    "\n",
    "_, algo = dump.load(\"../../model/shards_5_shuffled/shard0-trainedmodel.m\")\n",
    "\n",
    "Pred = knnpred(algo=algo, shuffle=True) # transmit into class knnpred and output accuracy\n",
    "acc = Pred.calculate_accuracy()\n",
    "print('accuracy of shard0 shuffled: {}'.format(acc))"
   ],
   "metadata": {
    "collapsed": false,
    "pycharm": {
     "name": "#%%\n"
    }
   }
  },
  {
   "cell_type": "code",
   "execution_count": 20,
   "outputs": [
    {
     "name": "stdout",
     "output_type": "stream",
     "text": [
      "Estimating biases using als...\n",
      "Computing the msd similarity matrix...\n",
      "Done computing similarity matrix.\n",
      "prediction accuracy is: 0.8054104727467524\n",
      "accuracy of shard0 ordered: 0.8054104727467524\n"
     ]
    }
   ],
   "source": [
    "'''\n",
    "shard0\n",
    "shuffle == False\n",
    "'''\n",
    "\n",
    "KNN_Unl = KNNbase_Unlearning(shuffle=False)\n",
    "# data_df = KNN_Unl.data_readin('~/.surprise_data/ml-100k/ml-100k/u.data')\n",
    "data_df = KNN_Unl.data_readin('../../data/shards_5_ordered/dataset_sharded0.csv')\n",
    "algorithm = KNN_Unl.train_model()\n",
    "dump.dump(\"../../model/shards_5_ordered/shard0-trainedmodel.m\", algo=algorithm)\n",
    "# KNN_Unl.get_similar_users_recommendations(algorithm, '7', 10)\n",
    "KNN_Unl.data_df.to_csv(\"../../data/shards_5_ordered/u-unlearning0.csv\", sep=\"\\t\", header=None, index=False)\n",
    "\n",
    "_, algo = dump.load(\"../../model/shards_5_ordered/shard0-trainedmodel.m\")\n",
    "\n",
    "Pred = knnpred(algo=algo, shuffle=False) # transmit into class knnpred and output accuracy\n",
    "acc = Pred.calculate_accuracy()\n",
    "print('accuracy of shard0 ordered: {}'.format(acc))"
   ],
   "metadata": {
    "collapsed": false,
    "pycharm": {
     "name": "#%%\n"
    }
   }
  },
  {
   "cell_type": "code",
   "execution_count": 10,
   "outputs": [
    {
     "name": "stdout",
     "output_type": "stream",
     "text": [
      "Estimating biases using als...\n",
      "Computing the msd similarity matrix...\n",
      "Done computing similarity matrix.\n",
      "\n",
      "recommendations for user 7:\n",
      "Secrets & Lies (1996)\n",
      "Cold Comfort Farm (1995)\n",
      "Antonia's Line (1995)\n",
      "L.A. Confidential (1997)\n",
      "Titanic (1997)\n",
      "Fargo (1996)\n",
      "As Good As It Gets (1997)\n",
      "Angels and Insects (1995)\n",
      "Deconstructing Harry (1997)\n",
      "Good Will Hunting (1997)\n",
      "[Prediction(uid='7', iid='144', r_ui=5, est=4.471712531142465, details={'actual_k': 40, 'was_impossible': False}), Prediction(uid='7', iid='211', r_ui=5, est=4.558248438220909, details={'actual_k': 40, 'was_impossible': False}), Prediction(uid='7', iid='569', r_ui=4, est=3.2831914790346515, details={'actual_k': 40, 'was_impossible': False})]\n",
      "user: 7          item: 144        r_ui = 5.00   est = 4.47   {'actual_k': 40, 'was_impossible': False}\n",
      "user: 7          item: 211        r_ui = 5.00   est = 4.56   {'actual_k': 40, 'was_impossible': False}\n",
      "user: 7          item: 569        r_ui = 4.00   est = 3.28   {'actual_k': 40, 'was_impossible': False}\n"
     ]
    }
   ],
   "source": [
    "\"\"\"\n",
    "full trained not sharded\n",
    "shuffle == False\n",
    "\"\"\"\n",
    "\n",
    "KNN_Unl = KNNbase_Unlearning(shuffle=False)\n",
    "data_df = KNN_Unl.data_readin('~/.surprise_data/ml-100k/ml-100k/u.data')\n",
    "algorithm = KNN_Unl.train_model()\n",
    "dump.dump(\"../model/sharding_test/fulldataset-trainedmodel.m\", algo=algorithm)\n",
    "KNN_Unl.get_similar_users_recommendations(algorithm, '7', 10)\n",
    "KNN_Unl.data_df.to_csv(\"../data/sharding_test/fulltrain-unlearning0.csv\", sep=\"\\t\", header=None, index=False)\n",
    "\n",
    "_, algo = dump.load(\"../model/sharding_test/fulldataset-trainedmodel.m\")\n",
    "'''\n",
    "7\t144\t5\t891351201\n",
    "7\t211\t5\t891352557\n",
    "7\t569\t4\t892131978\n",
    "'''\n",
    "\n",
    "testset =  [\n",
    "    ('7','144',5),# 想获取第5个用户对第1个item的得分\n",
    "    ('7','211',5),# 0这个位置是真实得分，不知道时可以写0\n",
    "    ('7','569',4),# 但写0后，就没法进行算法评估了，因为不知道真实值\n",
    "]\n",
    "\n",
    "predictions = algo.test(testset)\n",
    "print(predictions)\n",
    "for i in predictions:\n",
    "    print(i)\n"
   ],
   "metadata": {
    "collapsed": false,
    "pycharm": {
     "name": "#%%\n"
    }
   }
  },
  {
   "cell_type": "code",
   "execution_count": 13,
   "outputs": [
    {
     "name": "stdout",
     "output_type": "stream",
     "text": [
      "Estimating biases using als...\n",
      "Computing the msd similarity matrix...\n",
      "Done computing similarity matrix.\n",
      "[Prediction(uid='7', iid='144', r_ui=5, est=4.471712531142465, details={'actual_k': 40, 'was_impossible': False}), Prediction(uid='7', iid='211', r_ui=5, est=4.558248438220909, details={'actual_k': 40, 'was_impossible': False}), Prediction(uid='7', iid='569', r_ui=4, est=3.2831914790346515, details={'actual_k': 40, 'was_impossible': False})]\n",
      "user: 7          item: 144        r_ui = 5.00   est = 4.47   {'actual_k': 40, 'was_impossible': False}\n",
      "user: 7          item: 211        r_ui = 5.00   est = 4.56   {'actual_k': 40, 'was_impossible': False}\n",
      "user: 7          item: 569        r_ui = 4.00   est = 3.28   {'actual_k': 40, 'was_impossible': False}\n"
     ]
    }
   ],
   "source": [
    "\"\"\"\n",
    "full trained not sharded\n",
    "shuffle == True\n",
    "\"\"\"\n",
    "\n",
    "KNN_Unl = KNNbase_Unlearning(shuffle=True)\n",
    "data_df = KNN_Unl.data_readin('~/.surprise_data/ml-100k/ml-100k/u.data')\n",
    "algorithm = KNN_Unl.train_model()\n",
    "dump.dump(\"../model/sharding_test/fulldataset-trainedmodel.m\", algo=algorithm)\n",
    "KNN_Unl.get_similar_users_recommendations(algorithm, '7', 10)\n",
    "KNN_Unl.data_df.to_csv(\"../data/sharding_test/fulltrain-unlearning0.csv\", sep=\"\\t\", header=None, index=False)\n",
    "\n",
    "_, algo = dump.load(\"../model/sharding_test/fulldataset-trainedmodel.m\")\n",
    "'''\n",
    "7\t144\t5\t891351201\n",
    "7\t211\t5\t891352557\n",
    "7\t569\t4\t892131978\n",
    "'''\n",
    "\n",
    "testset =  [\n",
    "    ('7','144',5),# 想获取第5个用户对第1个item的得分\n",
    "    ('7','211',5),# 0这个位置是真实得分，不知道时可以写0\n",
    "    ('7','569',4),# 但写0后，就没法进行算法评估了，因为不知道真实值\n",
    "]\n",
    "\n",
    "predictions = algo.test(testset)\n",
    "print(predictions)\n",
    "for i in predictions:\n",
    "    print(i)"
   ],
   "metadata": {
    "collapsed": false,
    "pycharm": {
     "name": "#%%\n"
    }
   }
  },
  {
   "cell_type": "code",
   "execution_count": 19,
   "outputs": [
    {
     "name": "stdout",
     "output_type": "stream",
     "text": [
      "  user item rating  timestamp\n",
      "0  201  179      5  884114471\n",
      "1  201  218      4  884114471\n",
      "2  201  506      4  884114471\n",
      "3  201   55      4  884114471\n",
      "4  201  767      4  884114505\n",
      "Estimating biases using als...\n",
      "Computing the msd similarity matrix...\n",
      "Done computing similarity matrix.\n",
      "[Prediction(uid='7', iid='144', r_ui=5, est=3.8653109844997977, details={'was_impossible': False}), Prediction(uid='7', iid='211', r_ui=5, est=4.0594333920330214, details={'was_impossible': False}), Prediction(uid='7', iid='569', r_ui=4, est=3.2969364023268475, details={'was_impossible': False})]\n",
      "user: 7          item: 144        r_ui = 5.00   est = 3.87   {'was_impossible': False}\n",
      "user: 7          item: 211        r_ui = 5.00   est = 4.06   {'was_impossible': False}\n",
      "user: 7          item: 569        r_ui = 4.00   est = 3.30   {'was_impossible': False}\n"
     ]
    }
   ],
   "source": [
    "'''\n",
    "shard1\n",
    "shuffle == False\n",
    "'''\n",
    "\n",
    "KNN_Unl = KNNbase_Unlearning()\n",
    "# data_df = KNN_Unl.data_readin('~/.surprise_data/ml-100k/ml-100k/u.data')\n",
    "KNN_Unl.data_readin('../data/dict_testing/dataset_sharded1.csv')\n",
    "print(KNN_Unl.data_df.head())\n",
    "algorithm = KNN_Unl.train_model()\n",
    "dump.dump(\"../model/sharding_test/shard1-trainedmodel.m\", algo=algorithm)\n",
    "# KNN_Unl.get_similar_users_recommendations(algorithm, '7', 10)\n",
    "KNN_Unl.data_df.to_csv(\"../data/sharding_test/shard1-unlearning0.csv\", sep=\"\\t\", header=None, index=False)\n",
    "\n",
    "_, algo = dump.load(\"../model/sharding_test/shard1-trainedmodel.m\")\n",
    "'''\n",
    "7\t144\t5\t891351201\n",
    "7\t211\t5\t891352557\n",
    "7\t569\t4\t892131978\n",
    "'''\n",
    "\n",
    "testset =  [\n",
    "    ('7','144',5),# 想获取第5个用户对第1个item的得分\n",
    "    ('7','211',5),# 0这个位置是真实得分，不知道时可以写0\n",
    "    ('7','569',4),# 但写0后，就没法进行算法评估了，因为不知道真实值\n",
    "]\n",
    "\n",
    "predictions = algo.test(testset)\n",
    "print(predictions)\n",
    "for i in predictions:\n",
    "    print(i)\n"
   ],
   "metadata": {
    "collapsed": false,
    "pycharm": {
     "name": "#%%\n"
    }
   }
  },
  {
   "cell_type": "code",
   "execution_count": null,
   "outputs": [],
   "source": [
    "\n",
    "\n",
    "'''\n",
    "7\t144\t5\t891351201\n",
    "7\t211\t5\t891352557\n",
    "7\t569\t4\t892131978\n",
    "\n",
    "\n",
    "testset =  [\n",
    "    ('7','144',5),# 想获取第5个用户对第1个item的得分\n",
    "    ('7','211',5),# 0这个位置是真实得分，不知道时可以写0\n",
    "    ('7','569',4),# 但写0后，就没法进行算法评估了，因为不知道真实值\n",
    "]\n",
    "\n",
    "predictions = algo.test(testset)\n",
    "print(predictions)\n",
    "for i in predictions:\n",
    "    print(i)\n",
    "'''\n",
    "\n"
   ],
   "metadata": {
    "collapsed": false,
    "pycharm": {
     "name": "#%%\n"
    }
   }
  }
 ],
 "metadata": {
  "kernelspec": {
   "display_name": "PyCharm (surprise-recommendation)",
   "language": "python",
   "name": "pycharm-1f44e0f3"
  },
  "language_info": {
   "codemirror_mode": {
    "name": "ipython",
    "version": 2
   },
   "file_extension": ".py",
   "mimetype": "text/x-python",
   "name": "python",
   "nbconvert_exporter": "python",
   "pygments_lexer": "ipython2",
   "version": "2.7.6"
  }
 },
 "nbformat": 4,
 "nbformat_minor": 0
}